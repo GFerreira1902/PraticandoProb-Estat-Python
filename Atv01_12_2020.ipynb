{
  "nbformat": 4,
  "nbformat_minor": 0,
  "metadata": {
    "colab": {
      "name": "Atv01-12-2020.ipynb",
      "provenance": [],
      "collapsed_sections": [],
      "authorship_tag": "ABX9TyO92MtD9rEbfMKnN+NDwA15",
      "include_colab_link": true
    },
    "kernelspec": {
      "name": "python3",
      "display_name": "Python 3"
    }
  },
  "cells": [
    {
      "cell_type": "markdown",
      "metadata": {
        "id": "view-in-github",
        "colab_type": "text"
      },
      "source": [
        "<a href=\"https://colab.research.google.com/github/GFerreira1902/ProbADS2020GFerreira/blob/main/Atv01_12_2020.ipynb\" target=\"_parent\"><img src=\"https://colab.research.google.com/assets/colab-badge.svg\" alt=\"Open In Colab\"/></a>"
      ]
    },
    {
      "cell_type": "code",
      "metadata": {
        "id": "quGd1amahXPF"
      },
      "source": [
        "# Disciplina: Probabilidade e Estatística\n",
        "# Aluno: Guilherme Ferreira De Arruda\n",
        "# Lista 6\n",
        "# Questão 1\n",
        "\n",
        "i=0\n",
        "import pandas as pd                 #importação da biblioteca pandas,seaborn e matplotlib\n",
        "import seaborn as sn                #para cálculo da correlação e confecção do gráfico\n",
        "import matplotlib.pyplot as plt\n",
        "criancas={\"criancas\":[1,2,3,4,5,6,7,8,9,10,11,12], \"apmat\":[60,58,73,51,54,75,48,78,75,83,62,52],\n",
        "          \"apmusic\":[80,62,70,83,62,92,79,88,54,82,64,69]}     #variável criancas com o número de cada criança e sua respectiva aptidão em matemática e música\n",
        "matriz=pd.DataFrame(criancas, columns=[\"criancas\",\"apmat\",\"apmusic\"])   \n",
        "correl=matriz.corr()        #variável correl para armazenar o valor da correlação aplicada nos dados recebidos\n",
        "# print(correl)\n",
        "sn.heatmap(correl, annot=True)\n",
        "plt.show()"
      ],
      "execution_count": null,
      "outputs": []
    },
    {
      "cell_type": "code",
      "metadata": {
        "id": "zQ9xzvmuhY0W"
      },
      "source": [
        "# Disciplina: Probabilidade e Estatística\n",
        "# Aluno: Guilherme Ferreira De Arruda\n",
        "# Lista 6\n",
        "# Questão 2\n",
        "\n",
        "#resposta baseada na tabela de correlação onde o respectivo valor se encotra na classe abaixo.\n",
        "\"De acordo com este valor de r 0,207,  indica uma correlação desprezível que abrange os valores de 0 a 0.3 \""
      ],
      "execution_count": null,
      "outputs": []
    },
    {
      "cell_type": "code",
      "metadata": {
        "id": "Cobr0YKahY_4"
      },
      "source": [
        "# Disciplina: Probabilidade e Estatística\n",
        "# Aluno: Guilherme Ferreira De Arruda\n",
        "# Lista 6\n",
        "# Questão 3\n",
        "\n",
        "import pandas as pd\n",
        "import seaborn as sn\n",
        "import matplotlib.pyplot as plt\n",
        "\n",
        "z={\"anosdeserv\":[2,3,4,5,4,6,7,8,8,10],\"numdeclient\":[48,50,56,52,43,60,62,58,64,72]} #variável z para armazenar os dados em linha\n",
        "matriz=pd.DataFrame(z, columns=[\"anosdeserv\",\"numdeclient\"]) #matriz para armazenar os valores em coluna e os relacionar com os dados acima\n",
        "correl=matriz.corr()       \n",
        "print(correl)\n",
        "sn.heatmap(correl, annot=True)    #versão em gráfico personalizado dos dados de valores que variam entre -1 e 1.\n",
        "plt.show()"
      ],
      "execution_count": null,
      "outputs": []
    },
    {
      "cell_type": "code",
      "metadata": {
        "id": "Kilz-GQrhZpL"
      },
      "source": [
        "# Disciplina: Probabilidade e Estatística\n",
        "# Aluno: Guilherme Ferreira De Arruda\n",
        "# Lista 6\n",
        "# Questão 4\n",
        "\n",
        "import pandas as pd\n",
        "import seaborn as sn\n",
        "import matplotlib.pyplot as plt\n",
        "rendaporc={\"X\":[12,16,18,20,28,30,40,48,50,54], \"Y\":[7.2,7.4,7.0,6.5,6.6,6.7,6.0,5.6,6.0,5.5]} #variável para armazenar a renda bruta mensal em X e a procentagem da renda bruta em y das famílias\n",
        "z=pd.DataFrame(rendaporc, columns=[\"X\",\"Y\"])  #variável z para relacionar as rendas em linha e colunas\n",
        "correl=z.corr()\n",
        "print(correl)\n",
        "sn.heatmap(correl, annot=True) #versão gráfica dos valores corelacionados.\n",
        "plt.show()"
      ],
      "execution_count": null,
      "outputs": []
    },
    {
      "cell_type": "code",
      "metadata": {
        "id": "43OUYNDXhZ4I"
      },
      "source": [
        "# Disciplina: Probabilidade e Estatística\n",
        "# Aluno: Guilherme Ferreira De Arruda\n",
        "# Lista 6\n",
        "# Questão 5\n",
        "\n",
        "import pandas as pd\n",
        "import seaborn as sn\n",
        "import matplotlib.pyplot as plt\n",
        "                   \n",
        "#Conjunto1\n",
        "valores1={\"X1\":[10,8,13,9,11,14,6,4,12,7,5],\"Y1\":[8.04,6.95,7.58,8.81,8.33,9.96,7.24,4.26,10.84,4.82,5.68]}\n",
        "z1=pd.DataFrame(valores1, columns=[\"X1\",\"Y1\"])  #variável z para relacionar as rendas em linha e colunas\n",
        "correl1=z1.corr()\n",
        "print(correl1)\n",
        "sn.heatmap(correl, annot=True) #versão gráfica do determinado conjunto\n",
        "plt.show()\n",
        "\n",
        "#Conjunto2\n",
        "valores2={\"X2\":[10,8,13,9,11,14,6,4,12,7,5],\"Y2\":[9.14,8.14,8.74,8.77,9.26,8.10,6.13,3.10,9.13,7.26,4.74]}\n",
        "z2=pd.DataFrame(valores2, columns=[\"X2\",\"Y2\"])  #variável z para relacionar as rendas em linha e colunas\n",
        "correl2=z2.corr()\n",
        "print(correl2)\n",
        "sn.heatmap(correl, annot=True) #versão gráfica do determinado conjunto\n",
        "plt.show()\n",
        "\n",
        "#Conjunto3\n",
        "valores3={\"X3\":[10,8,13,9,11,14,6,4,12,7,5],\"Y3\":[7.46,6.77,12.74,7.11,7.81,8.84,6.08,5.39,8.15,6.42,5.73]}\n",
        "z3=pd.DataFrame(valores3, columns=[\"X3\",\"Y3\"])  #variável z para relacionar as rendas em linha e colunas\n",
        "correl3=z3.corr()\n",
        "print(correl3)\n",
        "sn.heatmap(correl, annot=True) #versão gráfica do determinado conjunto\n",
        "plt.show()\n",
        "\n",
        "#Conjunto4\n",
        "valores4={\"X4\":[8,8,8,8,8,8,8,19,8,8,8],\"Y4\":[6.58,5.76,7.71,8.84,8.47,7.04,5.25,12.50,5.56,7.91,6.89]}\n",
        "z4=pd.DataFrame(valores4, columns=[\"X4\",\"Y4\"])  #variável z para relacionar as rendas em linha e colunas\n",
        "correl4=z4.corr()\n",
        "print(correl4)\n",
        "sn.heatmap(correl, annot=True) #versão gráfica do determinado conjunto\n",
        "plt.show()\n"
      ],
      "execution_count": null,
      "outputs": []
    }
  ]
}