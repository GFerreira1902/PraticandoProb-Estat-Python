{
  "nbformat": 4,
  "nbformat_minor": 0,
  "metadata": {
    "colab": {
      "name": "Atv22-11-20",
      "provenance": [],
      "collapsed_sections": [],
      "authorship_tag": "ABX9TyPt2JpU5xO5cUcP3F1eFw8r",
      "include_colab_link": true
    },
    "kernelspec": {
      "name": "python3",
      "display_name": "Python 3"
    }
  },
  "cells": [
    {
      "cell_type": "markdown",
      "metadata": {
        "id": "view-in-github",
        "colab_type": "text"
      },
      "source": [
        "<a href=\"https://colab.research.google.com/github/GFerreira1902/ProbADS2020GFerreira/blob/main/Atv22_11_20.ipynb\" target=\"_parent\"><img src=\"https://colab.research.google.com/assets/colab-badge.svg\" alt=\"Open In Colab\"/></a>"
      ]
    },
    {
      "cell_type": "code",
      "metadata": {
        "id": "Ho994gOKRpGc"
      },
      "source": [
        "# Disciplina: Probabilidade e Estatística\n",
        "# Aluno:Guilherme Ferreira De Arruda    Matrícula: 20114290050\n",
        "# Lista 4\n",
        "#Questão 1\n",
        "\n",
        "nl=int(input(\"Digite a quantidade de lados do polígono com as opções de 3 a 5: \"))   #nl=número de lados    cl=cálculo de lados  ap=apótema\n",
        "if nl >=3 and nl <=5:      \n",
        "  if nl ==3:\n",
        "    base=float(input(\"Digite o valor da base do triângulo: \"))\n",
        "    h=float(input(\"Digite o valor da altura do triâgulo: \"))\n",
        "    cl=(base*h)/2\n",
        "    print(\"É UM TRIÂNGULO de área igual a: \",cl, \"cm\")\n",
        "  elif nl ==4:\n",
        "    l=float(input(\"Digite o valor de um dos lados do quadrado: \"))\n",
        "    cl=l**2\n",
        "    print(\"É UM QUADRADO de área igual a: \",cl, \"cm\")\n",
        "  else:\n",
        "    l=float(input(\"Digite o valor de um dos lados do pentágono: \"))\n",
        "    calctangente=2*0.73        #variável auxiliar para fórmula da apótema\n",
        "    ap=l/calctangente       \n",
        "    cl=l*5*ap\n",
        "    print(\"É UM PENTÁGONO de área igual a %.2f: \"%cl, \"cm\",)        #.xf define a quantidade de casas decimais onde x é o número selecionado pelo usuário de casas que ele deseja que tenha."
      ],
      "execution_count": null,
      "outputs": []
    },
    {
      "cell_type": "code",
      "metadata": {
        "id": "e36vvvnu0WFQ"
      },
      "source": [
        "# Disciplina: Probabilidade e Estatística\n",
        "# Aluno:Guilherme Ferreira De Arruda    Matrícula: 20114290050\n",
        "# Lista 4\n",
        "#Questão 2\n",
        "\n",
        "nl=int(input(\"Digite a quantidade de lados do polígono com as opções de 3 a 5: \"))   #nl=número de lados    cl=cálculo de lados  ap=apótema\n",
        "if nl >=3 and nl <=5:      \n",
        "  if nl ==3:\n",
        "    base=float(input(\"Digite o valor da base do triângulo: \"))\n",
        "    h=float(input(\"Digite o valor da altura do triâgulo: \"))\n",
        "    cl=(base*h)/2\n",
        "    print(\"É UM TRIÂNGULO de área igual a: \",cl, \"cm\")\n",
        "  elif nl ==4:\n",
        "    l=float(input(\"Digite o valor de um dos lados do quadrado: \"))\n",
        "    cl=l**2\n",
        "    print(\"É UM QUADRADO de área igual a: \",cl, \"cm\")\n",
        "  else:\n",
        "    l=float(input(\"Digite o valor de um dos lados do pentágono: \"))\n",
        "    calctangente=2*0.73        #variável auxiliar para fórmula da apótema\n",
        "    ap=l/calctangente       \n",
        "    cl=l*5*ap\n",
        "    print(\"É UM PENTÁGONO de área igual a %.2f:\"%cl, \"cm\")\n",
        "\n",
        "elif nl < 3:\n",
        "  print(\"NÃO É UM POLÍGONO.\")\n",
        "\n",
        "elif nl > 5:\n",
        "  print(\"POLÍGONO NÃO IDENTIFICADO\")"
      ],
      "execution_count": null,
      "outputs": []
    },
    {
      "cell_type": "code",
      "metadata": {
        "id": "pF0ZKrmYYjpD"
      },
      "source": [
        "# Disciplina: Probabilidade e Estatística\n",
        "# Aluno:Guilherme Ferreira De Arruda    Matrícula: 20114290050\n",
        "# Lista 4\n",
        "#Questão 3\n",
        "\n",
        "\n",
        "n1=float(input(\"Digite o primeiro valor: \"))        #Foi usado float para não ter problemas com a saída do código \n",
        "n2=float(input(\"Digite o segundo valor: \"))         #usando valores com casas decimais.\n",
        "n3=float(input(\"Digite o terceiro valor: \"))\n",
        "\n",
        "while True:   #Laço de repetição para avaliar se os números são diferentes e caso isso se confirme, \n",
        "              # o laço se quebre e prossiga com o código.\n",
        "  \n",
        "  if n2 == n1:    #Não comparei o segundo valor com o terceiro pois assim o computador irá definir que o segundo valor\n",
        "                  #é aquele que não atende as condições desejadas se caso se enquadre nesse if. \n",
        "    n2=float(input(\"Valor já escolhido, digite o SEGUNDO valor novamente: \"))\n",
        "  elif n3 == n1 or n3 == n2:\n",
        "    n3=float(input(\"Valor já escolhido, digite o TERCEIRO valor novamente: \"))\n",
        "  else:        #Se os números forem diferentes, este else irá usar o comando break para desfazer o laço.\n",
        "    break  \n",
        "if n1 >n2 and n1> n3:       #Nesta parte do código, as estruturas de condição irá avalir o maior valor\n",
        "                            #onde usei o operador and para avaliar os valores entre si.\n",
        "  print(\"O primeiro valor\",n1,\"é o maior dentre os números digitados\")\n",
        "elif n2 >n1 and n2> n3:\n",
        "  print(\"O segundo valor\",n2,\"é o maior dentre os números digitados\")\n",
        "else:\n",
        "  print(\"O terceiro valor\",n3,\"é o maior dentre os números digitados\")  \n",
        "      \n",
        "\n"
      ],
      "execution_count": null,
      "outputs": []
    },
    {
      "cell_type": "code",
      "metadata": {
        "id": "ZePHaMskQfec"
      },
      "source": [
        "# Disciplina: Probabilidade e Estatística\n",
        "# Aluno:Guilherme Ferreira De Arruda    Matrícula: 20114290050\n",
        "# Lista 4\n",
        "#Questão 4\n",
        "\n",
        "x=1\n",
        "cont=0\n",
        "\n",
        "lado1=float(input(\"Digite o valor do primeiro lado do triângulo: \"))\n",
        "lado2=float(input(\"Digite o valor do segundo lado do triângulo: \"))\n",
        "lado3=float(input(\"Digite o valor do terceiro lado do triângulo: \"))\n",
        "\n",
        "#Estrutura condicional para comparar os valores de cada lado e definir o tipo do determinado\n",
        "#Triângulo em Equiláter(3 lados iguais), Isóceles(2 lados iguais) e Escaleno(3 lados diferentes) \n",
        "if lado1== lado2 and lado1==lado3:\n",
        "  print(\"Triângulo Equilátero\")\n",
        "elif lado1== lado2 and lado1!=lado3 or lado1==lado3 and lado1!=lado2 or lado1!=lado3 and lado2==lado3:\n",
        "  print(\"Triângulo isóceles\")\n",
        "elif lado1!= lado2 and lado1!=lado3 and lado2!=lado3:\n",
        "  print(\"Triângulo Escaleno\")    "
      ],
      "execution_count": null,
      "outputs": []
    },
    {
      "cell_type": "code",
      "metadata": {
        "id": "HMvdJXGjQvr1"
      },
      "source": [
        "# Disciplina: Probabilidade e Estatística\n",
        "# Aluno:Guilherme Ferreira De Arruda    Matrícula: 20114290050\n",
        "# Lista 4\n",
        "#Questão 5\n",
        "\n",
        "ang1=int(input(\"Digite o valor do primeiro ângulo: \"))\n",
        "ang2=int(input(\"Digite o valor do segundo ângulo: \"))\n",
        "ang3=int(input(\"Digite o valor do terceiro ângulo: \"))\n",
        "somaang=ang1+ang2+ang3      #Variável para armazenar os valores dos 3 ângulos\n",
        "\n",
        "if somaang==90:                #Estrutura condicional para avaliar os valores e definir o tipo do triângulo\n",
        "  print(\"Triângulo Retângulo\")\n",
        "elif somang<90:\n",
        "  print(\"Triângulo Acutângulo\")\n",
        "elif somaang>90:\n",
        "  print(\"Triângulo Obsutângulo\")\n"
      ],
      "execution_count": null,
      "outputs": []
    },
    {
      "cell_type": "code",
      "metadata": {
        "id": "A6A98J-VQftR"
      },
      "source": [
        "# Disciplina: Probabilidade e Estatística\n",
        "# Aluno:Guilherme Ferreira De Arruda    Matrícula: 20114290050\n",
        "# Lista 4\n",
        "#Questão 6\n",
        "\n",
        "n=int(input(\"Digite um valor: \"))\n",
        "cont=0\n",
        "x=0\n",
        "\n",
        "#Estrutura de laço que contém um contador(cont) que se repetirá enquanto este mesmo for menor que o valor digitado \n",
        "#pelo usuário, e a cada interação é imprimido o valor do contador que aumenta de 1 em 1 a cada repetição do laço\n",
        "#até que este seja menor que n(número digitado).  \n",
        "while cont<=n:\n",
        "  print(cont)\n",
        "  cont+=1"
      ],
      "execution_count": null,
      "outputs": []
    },
    {
      "cell_type": "code",
      "metadata": {
        "id": "V76bOr6KQf4q"
      },
      "source": [
        "# Disciplina: Probabilidade e Estatística\n",
        "# Aluno:Guilherme Ferreira De Arruda    Matrícula: 20114290050\n",
        "# Lista 4\n",
        "#Questão 7\n",
        "\n",
        "op=int(input(\"Digite um número entre 1 e 4 :\"))\n",
        "\n",
        "#Se o número digitado for menor que 1 e maior que 4 entrará neste if e consequentemente em um laço infinito.\n",
        "\n",
        "if op < 1 or op >4:\n",
        "  while True:\n",
        "    if op < 1 or op >4:      #Sempre que o novo valor digitado passar por esse if(linha 12) ele será avaliado de novo\n",
        "                             #e se entrar aqui será pedido um novo valor com a mensagem \"Opção Inválida\".                             \n",
        "      print(\"Opção Inválida\")\n",
        "      op=int(input(\"Digite um número APENAS entre 1 e 4 :\"))\n",
        "      if op >=1 and op <=4:   #se  o valor se enquadrar entre 1 e 4 ele irá entrar em um novo if(linha 17) e \n",
        "                              #irá quebrar o laço com um break e imprimir o valor\n",
        "        print(op)\n",
        "        break\n",
        "\n",
        "#Se não o leitor do código dará a entender que o número está entre 1 e 4 e entrará nesse else e imprimirá o\n",
        "#valor digitado.        \n",
        "else:      \n",
        "  print(op)  "
      ],
      "execution_count": null,
      "outputs": []
    },
    {
      "cell_type": "code",
      "metadata": {
        "id": "MueAOpROQgDf"
      },
      "source": [
        "# Disciplina: Probabilidade e Estatística\n",
        "# Aluno:Guilherme Ferreira De Arruda    Matrícula: 20114290050\n",
        "# Lista 4\n",
        "#Questão 8\n",
        "x=[]\n",
        "#Criei uma lista com um valor vazio e em seguida o código entrará em um laço infinito.\n",
        "while True:\n",
        "  n=int(input(\"Digite um número: \"))  #O usuário terá que digitar um inteiro e esse laço se manterá até que o\n",
        "                                      #usuário digite 0.\n",
        "  \n",
        "  while n!=0:                         #Enquanto o número for diferente de 0 ele entrará neste outro while e\n",
        "                                      #acresentará o valor a uma lista  com o append(função)\n",
        "                                      #pedindo a digitação de um novo número.\n",
        "    x.append(n)\n",
        "    n=int(input(\"Digite um número: \"))\n",
        "\n",
        "  break\n",
        "print(\"números digitados:\",x)   #Após o usuário digitar 0 será impresso todos os números digitados menos o 0.\n",
        "maior=max(x)                    #Criei uma variável para avaliar o maior valor da lista de números com a função max.\n",
        "print(\"O MAIOR valor foi:\",maior) #Nesta última linha será impresso esse determinado valor."
      ],
      "execution_count": null,
      "outputs": []
    },
    {
      "cell_type": "code",
      "metadata": {
        "id": "2QIeaj6cQgMr"
      },
      "source": [
        "# Disciplina: Probabilidade e Estatística\n",
        "# Aluno:Guilherme Ferreira De Arruda    Matrícula: 20114290050\n",
        "# Lista 4\n",
        "#Questão 9\n",
        "\n",
        "n=int(input(\"Digite o número a ser decomposto em unidades a partir de 4 dígitos: \"))\n",
        "\n",
        "#Após ser solicitado o valor, o if(linha 9) irá avalar se o número contém 4 dígitos, se não tiver ele entrará no \n",
        "#else(linha 17) e informará uma mensagem de erro.\n",
        "\n",
        "if n >=1000 and n<=9999:\n",
        "  decomp=str(n)           #Transformei o valor digitado em string para assim poder acessar cada casa do número \n",
        "                          #especificando a determinada posição de cada index do número.\n",
        "  print(\"Unidade =\",decomp[0])\n",
        "  print(\"Dezena =\",decomp[1])\n",
        "  print(\"Centena =\",decomp[2])\n",
        "  print(\"Milhar =\",decomp[3])   \n",
        "else:\n",
        "  print(\"Número Digitado com mais ou menos de 4 dígitos, Tente Novamente\")  "
      ],
      "execution_count": null,
      "outputs": []
    }
  ]
}