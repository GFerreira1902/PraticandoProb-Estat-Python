{
  "nbformat": 4,
  "nbformat_minor": 0,
  "metadata": {
    "colab": {
      "name": "Atv24-11-20.ipynb",
      "provenance": [],
      "collapsed_sections": [],
      "authorship_tag": "ABX9TyONhpGceWpYvAz9T0RbxV9G",
      "include_colab_link": true
    },
    "kernelspec": {
      "name": "python3",
      "display_name": "Python 3"
    }
  },
  "cells": [
    {
      "cell_type": "markdown",
      "metadata": {
        "id": "view-in-github",
        "colab_type": "text"
      },
      "source": [
        "<a href=\"https://colab.research.google.com/github/GFerreira1902/ProbADS2020GFerreira/blob/main/Atv24_11_20.ipynb\" target=\"_parent\"><img src=\"https://colab.research.google.com/assets/colab-badge.svg\" alt=\"Open In Colab\"/></a>"
      ]
    },
    {
      "cell_type": "code",
      "metadata": {
        "id": "rPRJzXpK36sR"
      },
      "source": [
        "# Disciplina: Probabilidade e Estatística\n",
        "# Aluno: Guilherme Ferreira De Arruda\n",
        "# Lista 5\n",
        "#Questão 1\n",
        "\n",
        "import statistics                #Importando a biblioteca de estatísticas\n",
        "from scipy.stats.mstats import gmean     #Importando a biblioteca de estatísticas(geométrica)\n",
        "Consumo=[10,13,17,9,8,11,13,7]\n",
        "print(\"A média simples é:\",statistics.mean(Consumo))  #statistics.mean--->Média Simples\n",
        "harmo=gmean(Consumo)\n",
        "print(\"A média harmônica é:\",round(harmo,2))      #Função round define o número de casas após a vírgula\n",
        "geo=statistics.harmonic_mean(Consumo)             #statistics.harmonic _mean--->Média Geométrica\n",
        "print(\"A média geométrica é:\",round(geo,2))\n",
        "try:                                              #Try e except funcionam como uma palavra reservada\n",
        "  print(\"A moda é:\",statistics.mode(Consumo))     #para evitar erros no programa\n",
        "except:                                           #statistics.mode--->Moda\n",
        "  print(\"Moda Indefinida\")                        \n",
        "Vari=statistics.variance(Consumo)                 #statistics.variance--->Variância\n",
        "print(\"A variância é:\",round(Vari,2))\n",
        "Desvpad=statistics.stdev(Consumo)                 #statistics.stdev--->desvio padrão.\n",
        "print(\"O desvio padrão é:\",round(Desvpad,2))"
      ],
      "execution_count": null,
      "outputs": []
    },
    {
      "cell_type": "code",
      "metadata": {
        "id": "HfRrRo02FhNM"
      },
      "source": [
        "# Disciplina: Probabilidade e Estatística\n",
        "# Aluno: Guilherme Ferreira De Arruda\n",
        "# Lista 5\n",
        "#Questão 2\n",
        "\n",
        "import statistics\n",
        "listansied=[67,75,63,72,77,78,81,77,80]    #lista ansiedade\n",
        "Media=statistics.mean(listansied)       \n",
        "print(\"A média simples é:\",round(Media,2))    #Cálculo da média com uma limitação de 2 casas decimais(round)\n",
        "harmo=gmean(listansied)\n",
        "print(\"A média harmônica é:\",round(harmo,2))\n",
        "geo=statistics.harmonic_mean(listansied)\n",
        "print(\"A média geométrica é:\",round(geo,2))\n",
        "try:                                                    #Try e except funcionam como uma palavra reservada\n",
        "  print(\"A moda é:\",statistics.mode(listansied))        #para evitar erros no programa\n",
        "except:                                                 #statistics.mode--->Moda\n",
        "  print(\"Moda Indefinida\")  \n",
        "Vari=statistics.variance(listansied)\n",
        "print(\"A variância é:\",round(Vari,2))\n",
        "Desvpad=statistics.stdev(listansied)\n",
        "print(\"O desvio padrão é:\",round(Desvpad,2))"
      ],
      "execution_count": null,
      "outputs": []
    },
    {
      "cell_type": "code",
      "metadata": {
        "id": "5YPHVu_VFhhu"
      },
      "source": [
        "# Disciplina: Probabilidade e Estatística\n",
        "# Aluno: Guilherme Ferreira De Arruda\n",
        "# Lista 5\n",
        "#Questão 3\n",
        "\n",
        "import statistics\n",
        "prodleite=[4.0,4.5,5.0,5.0,5.0,5.5,6.0,6.0,6.5,6.5,6.5,      #Tabela com toda a produção de leite\n",
        "           6.5,7.0,7.0,7.0,7.0,7.0,7.0,7.5,8.5,9.0,9.0,\n",
        "           9.0,9.5,10.0,10.0,10.5,10.5,11.0,12.0,12.5,13.0,13.0]\n",
        "\n",
        "Med=statistics.mean(prodleite)                          #Cálculo da média a partir da quantidade de produção de leite\n",
        "Desvpad=statistics.stdev(prodleite)                     #dividido pelo desvio padrão, resultando no coeficiente angular\n",
        "print(\"O coeficiente angular é igual a:\",round(Desvpad/Med,2))"
      ],
      "execution_count": null,
      "outputs": []
    },
    {
      "cell_type": "code",
      "metadata": {
        "id": "vaEbwxh7FhsF"
      },
      "source": [
        "# Disciplina: Probabilidade e Estatística\n",
        "# Aluno: Guilherme Ferreira De Arruda\n",
        "# Lista 5\n",
        "#Questão 4\n",
        "\n",
        "import statistics\n",
        "prodcafe=[12,15,18,22,17,14,18,23,29,12]\n",
        "Media=statistics.mean(prodcafe)\n",
        "print(\"A Média é igual a:\",Media)           #Média da produção de café\n",
        "Mediana=statistics.median(prodcafe)\n",
        "print(\"A Mediana é igual a:\",Mediana)       #Mediana da produção de café(valores ordenados que  encontrando ou                                             #somando os valores)\n",
        "Desvpad=statistics.stdev(prodcafe)          #calculando os valores centrais que neste caso dividido por 2 se encontra o seu valor.\n",
        "print(\"O Desvio Padrão é igual a:\",round(Desvpad,2))  "
      ],
      "execution_count": null,
      "outputs": []
    },
    {
      "cell_type": "code",
      "metadata": {
        "id": "ikwRXtaJFh0s"
      },
      "source": [
        "# Disciplina: Probabilidade e Estatística\n",
        "# Aluno: Guilherme Ferreira De Arruda\n",
        "# Lista 5\n",
        "#Questão 5\n",
        "\n",
        "import statistics\n",
        "nota=float(input(\"Digite as notas do aluno de 0 a 10: \"))    #Solicitação das notas do aluno\n",
        "listnota=[]                                                  #Lista vazia\n",
        "listnota.append(nota)                             #Append para adcionar o primeiro valor digitado da lista\n",
        "if nota ==-999:                                   #if para caso o usuário já começar o programa digitando o interruptor\n",
        "  print(\"Programa sem nenhum valor\")\n",
        "while nota !=-999:                        #Enquanto o valor for diferente de -999 ele entrará em um laço de repetição\n",
        "  if nota >=0 and nota<=10:               #Se a nota atender as condições deste if ela será acresentada na lista vazia\n",
        "    nota=float(input(\"Digite as notas do aluno de 0 a 10: \"))\n",
        "    listnota.append(nota) \n",
        "  else:                 #Se ela não atender as determinadas conndições o usuário terá que solicitar um valor válido em algum momento ou o interruptor\n",
        "    nota=float(input(\"Erro, Digite as notas do aluno apenas entre 0 e 10: \"))\n",
        "listnota.pop()      #Usei a função .pop para não atribuir o -999 e retirar o mesmo  da lista ao ser digitado.\n",
        "print(listnota)\n",
        "try:              #try para se caso o usuário não digite nenhum valor já no início, impessa o erro de não atribuição de valor e consequentemente não consiga tirar os valores estatísticos.\n",
        "  Media=statistics.mean(listnota)\n",
        "  print(\"A média simples é:\",round(Media,2))\n",
        "  harmo=gmean(listnota)\n",
        "  print(\"A média harmônica é:\",round(harmo,2))\n",
        "  geo=statistics.harmonic_mean(listnota)\n",
        "  print(\"A média geométrica é:\",round(geo,2))\n",
        "  try:\n",
        "    print(\"A moda é:\",statistics.mode(listnota))\n",
        "  except:\n",
        "    print(\"Moda Indefinida\")  \n",
        "  Vari=statistics.variance(listnota)\n",
        "  print(\"A variância é:\",round(Vari,2))\n",
        "  Desvpad=statistics.stdev(listnota)\n",
        "  print(\"O desvio padrão é:\",round(Desvpad,2))  \n",
        "  print(\"O coeficiente angular é igual a:\",round(Desvpad/Media,2))\n",
        "except:          #Except para apresentar o erro ao usuário de que ele não digitou nenhum valor para entrar na lista\n",
        "  print(\"Programa encerrado\")  "
      ],
      "execution_count": null,
      "outputs": []
    },
    {
      "cell_type": "code",
      "metadata": {
        "id": "UlwObU4VFh9G"
      },
      "source": [
        "# Disciplina: Probabilidade e Estatística\n",
        "# Aluno: Guilherme Ferreira De Arruda\n",
        "# Lista 5\n",
        "#Questão 6\n",
        "\n",
        "import statistics\n",
        "x=1\n",
        "listnotas=[]     #Lista criada para armazenar as notas do aluno\n",
        "\n",
        "while x<=3:      #Laço que começando por 1 e até ser menor ou igual a 3 se repetirá\n",
        "  nota=float(input(\"Digite as notas do aluno: \")) #notas recebidas que entrarão ou não no if acionando o valor a lista vazia\n",
        "  if nota>=0 and nota<=10:                        #no caso desta ir parar no else, será pedido um valor correto.\n",
        "    listnotas.append(nota)\n",
        "  else:\n",
        "    print(\"Nota inválida, Tente Novamente\")\n",
        "    break  \n",
        "  x+=1      #Contador da quantidade de interações do laço+1 a serem adcionadas(no caso 3)\n",
        "print(listnotas)       #As 3 notas imprimidas na tela\n",
        "Nota1=listnotas[0]*3   #A primeira nota * o peso 3 será armazenada na variável Nota1\n",
        "Nota2=listnotas[1]*4   #A segunda nota * o peso 4 será armazenada na variável Nota2\n",
        "Nota3=listnotas[2]*3   #A terceira nota * o peso 3 será armazenada na variável Nota3\n",
        "Somapond=3+4+3         #Soma dos valores ponderados (3,4,3 respectivamente) \n",
        "Somanota=Nota1+Nota2+Nota3   #Soma das 3 notas finais juntas já calculadas com os pesos\n",
        "print(\"A média ponderada é igual a: \",Somanota/Somapond)   #Soma de todas as notas/ Soma das notas ponderadas resultará na média ponderada."
      ],
      "execution_count": null,
      "outputs": []
    }
  ]
}